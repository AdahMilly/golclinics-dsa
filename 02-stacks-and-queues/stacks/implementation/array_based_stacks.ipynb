{
 "metadata": {
  "language_info": {
   "codemirror_mode": {
    "name": "ipython",
    "version": 3
   },
   "file_extension": ".py",
   "mimetype": "text/x-python",
   "name": "python",
   "nbconvert_exporter": "python",
   "pygments_lexer": "ipython3",
   "version": "3.7.8-final"
  },
  "orig_nbformat": 2,
  "kernelspec": {
   "name": "python3",
   "display_name": "Python 3.7.8 64-bit",
   "metadata": {
    "interpreter": {
     "hash": "57baa5815c940fdaff4d14510622de9616cae602444507ba5d0b6727c008cbd6"
    }
   }
  }
 },
 "nbformat": 4,
 "nbformat_minor": 2,
 "cells": [
  {
   "source": [
    "\"\"\"\n",
    "Stack implementation using an Array\n",
    "\"\"\"\n",
    "class Stack(object):\n",
    "\n",
    "    def __init__(self):\n",
    "        \"\"\"\n",
    "        Initilise the array\n",
    "        \"\"\"\n",
    "        self._items = []\n",
    "    \n",
    "    def size(self):\n",
    "        \"\"\"\n",
    "        Return the number of items in the stack\n",
    "        \"\"\"\n",
    "        return len(self._items)\n",
    "\n",
    "    def isEmpty(self):\n",
    "        \"\"\"\n",
    "        Check if the stack is empty\n",
    "        \"\"\"\n",
    "        return self.size() == 0\n",
    "\n",
    "    def push(self, item):\n",
    "        \"\"\"\n",
    "        Add an item to the top of the stack\n",
    "        \"\"\"\n",
    "        self._items.append(item)\n",
    "    \n",
    "    def pop(self):\n",
    "        if self.isEmpty():\n",
    "            return None\n",
    "\n",
    "        return self._items.pop()\n",
    "    \n",
    "    def peek(self):\n",
    "        if self.isEmpty():\n",
    "            return None\n",
    "        \n",
    "        top_index = self.size() - 1\n",
    "        return self._items[top_index]\n"
   ],
   "cell_type": "code",
   "metadata": {},
   "execution_count": 103,
   "outputs": []
  },
  {
   "cell_type": "code",
   "execution_count": 104,
   "metadata": {},
   "outputs": [
    {
     "output_type": "stream",
     "name": "stdout",
     "text": [
      "True\n"
     ]
    }
   ],
   "source": [
    "stack = Stack()\n",
    "print(stack.isEmpty())"
   ]
  },
  {
   "cell_type": "code",
   "execution_count": 105,
   "metadata": {},
   "outputs": [
    {
     "output_type": "execute_result",
     "data": {
      "text/plain": [
       "False"
      ]
     },
     "metadata": {},
     "execution_count": 105
    }
   ],
   "source": [
    "stack.push(\"First\")\n",
    "stack.isEmpty()"
   ]
  },
  {
   "cell_type": "code",
   "execution_count": 106,
   "metadata": {},
   "outputs": [
    {
     "output_type": "execute_result",
     "data": {
      "text/plain": [
       "'First'"
      ]
     },
     "metadata": {},
     "execution_count": 106
    }
   ],
   "source": [
    "stack.peek()"
   ]
  },
  {
   "cell_type": "code",
   "execution_count": 107,
   "metadata": {},
   "outputs": [
    {
     "output_type": "execute_result",
     "data": {
      "text/plain": [
       "1"
      ]
     },
     "metadata": {},
     "execution_count": 107
    }
   ],
   "source": [
    "stack.size()"
   ]
  },
  {
   "cell_type": "code",
   "execution_count": 108,
   "metadata": {},
   "outputs": [],
   "source": [
    "stack.push(\"Second\")"
   ]
  },
  {
   "cell_type": "code",
   "execution_count": 109,
   "metadata": {},
   "outputs": [
    {
     "output_type": "execute_result",
     "data": {
      "text/plain": [
       "2"
      ]
     },
     "metadata": {},
     "execution_count": 109
    }
   ],
   "source": [
    "stack.size()"
   ]
  },
  {
   "cell_type": "code",
   "execution_count": 110,
   "metadata": {},
   "outputs": [
    {
     "output_type": "execute_result",
     "data": {
      "text/plain": [
       "'Second'"
      ]
     },
     "metadata": {},
     "execution_count": 110
    }
   ],
   "source": [
    "stack.peek()"
   ]
  },
  {
   "cell_type": "code",
   "execution_count": 111,
   "metadata": {},
   "outputs": [
    {
     "output_type": "stream",
     "name": "stdout",
     "text": [
      "Second\n"
     ]
    }
   ],
   "source": [
    "print(stack.pop())"
   ]
  },
  {
   "cell_type": "code",
   "execution_count": 112,
   "metadata": {},
   "outputs": [
    {
     "output_type": "stream",
     "name": "stdout",
     "text": [
      "First\n"
     ]
    }
   ],
   "source": [
    "print(stack.pop())"
   ]
  },
  {
   "cell_type": "code",
   "execution_count": 113,
   "metadata": {},
   "outputs": [
    {
     "output_type": "stream",
     "name": "stdout",
     "text": [
      "None\n"
     ]
    }
   ],
   "source": [
    "print(stack.pop())"
   ]
  },
  {
   "cell_type": "code",
   "execution_count": 114,
   "metadata": {},
   "outputs": [
    {
     "output_type": "stream",
     "name": "stdout",
     "text": [
      "0\n"
     ]
    }
   ],
   "source": [
    "print(stack.size())"
   ]
  },
  {
   "cell_type": "code",
   "execution_count": 132,
   "metadata": {},
   "outputs": [],
   "source": [
    "\"\"\"\n",
    "Basic Calculator\n",
    "\"\"\"\n",
    "\n",
    "def evaluate(expression):\n",
    "    \"\"\"\n",
    "    Supports '+' and '-' operators\n",
    "    \"\"\"\n",
    "    operators = Stack()\n",
    "    operands = Stack()\n",
    "\n",
    "    for index in range(0, len(expression)):\n",
    "        char = expression[index]\n",
    "        if char == ' ':\n",
    "            continue\n",
    "\n",
    "        if char == '+' or char == '-':\n",
    "            operators.push(char)\n",
    "        else:\n",
    "            operands.push(int(char))\n",
    "        \n",
    "        if operands.size() == 2:\n",
    "            operator = operators.pop()\n",
    "            operand1 = operands.pop()\n",
    "            operand2 = operands.pop()\n",
    "\n",
    "            if (operator == '-'):\n",
    "                result = operand2 - operand1\n",
    "            else:\n",
    "                result = operand1 + operand2\n",
    "            operands.push(result)\n",
    "    \n",
    "    return operands.peek()"
   ]
  },
  {
   "cell_type": "code",
   "execution_count": 133,
   "metadata": {},
   "outputs": [
    {
     "output_type": "execute_result",
     "data": {
      "text/plain": [
       "2"
      ]
     },
     "metadata": {},
     "execution_count": 133
    }
   ],
   "source": [
    "evaluate(\"1 + 1\")"
   ]
  },
  {
   "cell_type": "code",
   "execution_count": 134,
   "metadata": {},
   "outputs": [],
   "source": [
    "evaluate(\"\")"
   ]
  },
  {
   "cell_type": "code",
   "execution_count": 135,
   "metadata": {},
   "outputs": [
    {
     "output_type": "execute_result",
     "data": {
      "text/plain": [
       "2"
      ]
     },
     "metadata": {},
     "execution_count": 135
    }
   ],
   "source": [
    "evaluate(\"1 - 4 + 5\")"
   ]
  },
  {
   "cell_type": "code",
   "execution_count": null,
   "metadata": {},
   "outputs": [],
   "source": [
    "evaluate(\"4 + 5 -1\")"
   ]
  }
 ]
}